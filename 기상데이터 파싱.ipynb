{
 "cells": [
  {
   "cell_type": "code",
   "execution_count": 1,
   "metadata": {},
   "outputs": [],
   "source": [
    "import pandas as pd\n",
    "import numpy as np"
   ]
  },
  {
   "cell_type": "code",
   "execution_count": 11,
   "metadata": {},
   "outputs": [],
   "source": [
    "weather19 = pd.read_csv(\"./BigContest_2020/2019_기상데이터.csv\",encoding = 'cp1252')\n",
    "weather20 = pd.read_csv(\"./BigContest_2020/2020_기상데이터.csv\",encoding = 'cp1252')"
   ]
  },
  {
   "cell_type": "code",
   "execution_count": 16,
   "metadata": {},
   "outputs": [
    {
     "data": {
      "text/html": [
       "<div>\n",
       "<style scoped>\n",
       "    .dataframe tbody tr th:only-of-type {\n",
       "        vertical-align: middle;\n",
       "    }\n",
       "\n",
       "    .dataframe tbody tr th {\n",
       "        vertical-align: top;\n",
       "    }\n",
       "\n",
       "    .dataframe thead th {\n",
       "        text-align: right;\n",
       "    }\n",
       "</style>\n",
       "<table border=\"1\" class=\"dataframe\">\n",
       "  <thead>\n",
       "    <tr style=\"text-align: right;\">\n",
       "      <th></th>\n",
       "      <th>ÁöÁ¡</th>\n",
       "      <th>ÁöÁ¡¸í</th>\n",
       "      <th>ÀÏ½Ã</th>\n",
       "      <th>±â¿Â(¡ÆC)</th>\n",
       "      <th>°­¼ö·®(mm)</th>\n",
       "      <th>½Àµµ(%)</th>\n",
       "      <th>ÀÌ½½Á¡¿Âµµ(¡ÆC)</th>\n",
       "      <th>Áö¸é¿Âµµ(¡ÆC)</th>\n",
       "    </tr>\n",
       "  </thead>\n",
       "  <tbody>\n",
       "    <tr>\n",
       "      <th>0</th>\n",
       "      <td>108</td>\n",
       "      <td>¼­¿ï</td>\n",
       "      <td>2019-02-01 01:00</td>\n",
       "      <td>-6.7</td>\n",
       "      <td>NaN</td>\n",
       "      <td>33</td>\n",
       "      <td>-20.3</td>\n",
       "      <td>-6.2</td>\n",
       "    </tr>\n",
       "    <tr>\n",
       "      <th>1</th>\n",
       "      <td>108</td>\n",
       "      <td>¼­¿ï</td>\n",
       "      <td>2019-02-01 02:00</td>\n",
       "      <td>-7.1</td>\n",
       "      <td>NaN</td>\n",
       "      <td>37</td>\n",
       "      <td>-19.3</td>\n",
       "      <td>-6.5</td>\n",
       "    </tr>\n",
       "    <tr>\n",
       "      <th>2</th>\n",
       "      <td>108</td>\n",
       "      <td>¼­¿ï</td>\n",
       "      <td>2019-02-01 03:00</td>\n",
       "      <td>-7.3</td>\n",
       "      <td>NaN</td>\n",
       "      <td>39</td>\n",
       "      <td>-18.9</td>\n",
       "      <td>-7.0</td>\n",
       "    </tr>\n",
       "    <tr>\n",
       "      <th>3</th>\n",
       "      <td>108</td>\n",
       "      <td>¼­¿ï</td>\n",
       "      <td>2019-02-01 04:00</td>\n",
       "      <td>-7.4</td>\n",
       "      <td>NaN</td>\n",
       "      <td>41</td>\n",
       "      <td>-18.4</td>\n",
       "      <td>-7.1</td>\n",
       "    </tr>\n",
       "    <tr>\n",
       "      <th>4</th>\n",
       "      <td>108</td>\n",
       "      <td>¼­¿ï</td>\n",
       "      <td>2019-02-01 05:00</td>\n",
       "      <td>-7.2</td>\n",
       "      <td>NaN</td>\n",
       "      <td>43</td>\n",
       "      <td>-17.6</td>\n",
       "      <td>-7.1</td>\n",
       "    </tr>\n",
       "  </tbody>\n",
       "</table>\n",
       "</div>"
      ],
      "text/plain": [
       "   ÁöÁ¡ ÁöÁ¡¸í              ÀÏ½Ã  ±â¿Â(¡ÆC)  °­¼ö·®(mm)  ½Àµµ(%)  \\\n",
       "0   108   ¼­¿ï  2019-02-01 01:00       -6.7         NaN       33   \n",
       "1   108   ¼­¿ï  2019-02-01 02:00       -7.1         NaN       37   \n",
       "2   108   ¼­¿ï  2019-02-01 03:00       -7.3         NaN       39   \n",
       "3   108   ¼­¿ï  2019-02-01 04:00       -7.4         NaN       41   \n",
       "4   108   ¼­¿ï  2019-02-01 05:00       -7.2         NaN       43   \n",
       "\n",
       "   ÀÌ½½Á¡¿Âµµ(¡ÆC)  Áö¸é¿Âµµ(¡ÆC)  \n",
       "0            -20.3           -6.2  \n",
       "1            -19.3           -6.5  \n",
       "2            -18.9           -7.0  \n",
       "3            -18.4           -7.1  \n",
       "4            -17.6           -7.1  "
      ]
     },
     "execution_count": 16,
     "metadata": {},
     "output_type": "execute_result"
    }
   ],
   "source": [
    "weather19.head()"
   ]
  },
  {
   "cell_type": "code",
   "execution_count": 17,
   "metadata": {},
   "outputs": [
    {
     "data": {
      "text/html": [
       "<div>\n",
       "<style scoped>\n",
       "    .dataframe tbody tr th:only-of-type {\n",
       "        vertical-align: middle;\n",
       "    }\n",
       "\n",
       "    .dataframe tbody tr th {\n",
       "        vertical-align: top;\n",
       "    }\n",
       "\n",
       "    .dataframe thead th {\n",
       "        text-align: right;\n",
       "    }\n",
       "</style>\n",
       "<table border=\"1\" class=\"dataframe\">\n",
       "  <thead>\n",
       "    <tr style=\"text-align: right;\">\n",
       "      <th></th>\n",
       "      <th>ÁöÁ¡</th>\n",
       "      <th>ÁöÁ¡¸í</th>\n",
       "      <th>ÀÏ½Ã</th>\n",
       "      <th>±â¿Â(¡ÆC)</th>\n",
       "      <th>°­¼ö·®(mm)</th>\n",
       "      <th>½Àµµ(%)</th>\n",
       "      <th>ÀÌ½½Á¡¿Âµµ(¡ÆC)</th>\n",
       "      <th>Áö¸é¿Âµµ(¡ÆC)</th>\n",
       "    </tr>\n",
       "  </thead>\n",
       "  <tbody>\n",
       "    <tr>\n",
       "      <th>5801</th>\n",
       "      <td>143</td>\n",
       "      <td>´ë±¸</td>\n",
       "      <td>2020-05-31 19:00</td>\n",
       "      <td>25.4</td>\n",
       "      <td>NaN</td>\n",
       "      <td>52</td>\n",
       "      <td>14.8</td>\n",
       "      <td>28.0</td>\n",
       "    </tr>\n",
       "    <tr>\n",
       "      <th>5802</th>\n",
       "      <td>143</td>\n",
       "      <td>´ë±¸</td>\n",
       "      <td>2020-05-31 20:00</td>\n",
       "      <td>23.8</td>\n",
       "      <td>NaN</td>\n",
       "      <td>59</td>\n",
       "      <td>15.2</td>\n",
       "      <td>25.2</td>\n",
       "    </tr>\n",
       "    <tr>\n",
       "      <th>5803</th>\n",
       "      <td>143</td>\n",
       "      <td>´ë±¸</td>\n",
       "      <td>2020-05-31 21:00</td>\n",
       "      <td>23.2</td>\n",
       "      <td>NaN</td>\n",
       "      <td>62</td>\n",
       "      <td>15.5</td>\n",
       "      <td>24.3</td>\n",
       "    </tr>\n",
       "    <tr>\n",
       "      <th>5804</th>\n",
       "      <td>143</td>\n",
       "      <td>´ë±¸</td>\n",
       "      <td>2020-05-31 22:00</td>\n",
       "      <td>22.9</td>\n",
       "      <td>NaN</td>\n",
       "      <td>62</td>\n",
       "      <td>15.2</td>\n",
       "      <td>24.0</td>\n",
       "    </tr>\n",
       "    <tr>\n",
       "      <th>5805</th>\n",
       "      <td>143</td>\n",
       "      <td>´ë±¸</td>\n",
       "      <td>2020-05-31 23:00</td>\n",
       "      <td>22.6</td>\n",
       "      <td>NaN</td>\n",
       "      <td>62</td>\n",
       "      <td>14.9</td>\n",
       "      <td>23.6</td>\n",
       "    </tr>\n",
       "  </tbody>\n",
       "</table>\n",
       "</div>"
      ],
      "text/plain": [
       "      ÁöÁ¡ ÁöÁ¡¸í              ÀÏ½Ã  ±â¿Â(¡ÆC)  °­¼ö·®(mm)  ½Àµµ(%)  \\\n",
       "5801   143   ´ë±¸  2020-05-31 19:00       25.4         NaN       52   \n",
       "5802   143   ´ë±¸  2020-05-31 20:00       23.8         NaN       59   \n",
       "5803   143   ´ë±¸  2020-05-31 21:00       23.2         NaN       62   \n",
       "5804   143   ´ë±¸  2020-05-31 22:00       22.9         NaN       62   \n",
       "5805   143   ´ë±¸  2020-05-31 23:00       22.6         NaN       62   \n",
       "\n",
       "      ÀÌ½½Á¡¿Âµµ(¡ÆC)  Áö¸é¿Âµµ(¡ÆC)  \n",
       "5801             14.8           28.0  \n",
       "5802             15.2           25.2  \n",
       "5803             15.5           24.3  \n",
       "5804             15.2           24.0  \n",
       "5805             14.9           23.6  "
      ]
     },
     "execution_count": 17,
     "metadata": {},
     "output_type": "execute_result"
    }
   ],
   "source": [
    "weather20.tail()"
   ]
  },
  {
   "cell_type": "code",
   "execution_count": 21,
   "metadata": {},
   "outputs": [],
   "source": [
    "weather19.columns = pd.Series([\"CODE\",\"NAME\",\"TIME\",\"TEMP\",\"RAIN\",\"HUMI\",\"ICE_POINT\",\"GROUND_TEMP\"])\n",
    "weather20.columns = pd.Series([\"CODE\",\"NAME\",\"TIME\",\"TEMP\",\"RAIN\",\"HUMI\",\"ICE_POINT\",\"GROUND_TEMP\"])"
   ]
  },
  {
   "cell_type": "code",
   "execution_count": 23,
   "metadata": {},
   "outputs": [],
   "source": [
    "weather19.drop(columns=\"NAME\",inplace=True)\n",
    "weather20.drop(columns=\"NAME\",inplace=True)"
   ]
  },
  {
   "cell_type": "code",
   "execution_count": 29,
   "metadata": {},
   "outputs": [
    {
     "data": {
      "text/plain": [
       "<matplotlib.axes._subplots.AxesSubplot at 0x28439648278>"
      ]
     },
     "execution_count": 29,
     "metadata": {},
     "output_type": "execute_result"
    },
    {
     "data": {
      "image/png": "[encoded data removed]",
      "text/plain": [
       "<Figure size 432x288 with 1 Axes>"
      ]
     },
     "metadata": {
      "needs_background": "light"
     },
     "output_type": "display_data"
    }
   ],
   "source": [
    "weather19.boxplot()"
   ]
  },
  {
   "cell_type": "code",
   "execution_count": 34,
   "metadata": {},
   "outputs": [
    {
     "data": {
      "text/plain": [
       "<matplotlib.axes._subplots.AxesSubplot at 0x2844194e438>"
      ]
     },
     "execution_count": 34,
     "metadata": {},
     "output_type": "execute_result"
    },
    {
     "data": {
      "image/png": "[encoded data removed]",
      "text/plain": [
       "<Figure size 432x288 with 1 Axes>"
      ]
     },
     "metadata": {
      "needs_background": "light"
     },
     "output_type": "display_data"
    }
   ],
   "source": [
    "weather19['TEMP'].plot()"
   ]
  },
  {
   "cell_type": "code",
   "execution_count": 37,
   "metadata": {},
   "outputs": [],
   "source": [
    "import matplotlib.pyplot as plt"
   ]
  },
  {
   "cell_type": "code",
   "execution_count": null,
   "metadata": {},
   "outputs": [],
   "source": []
  }
 ],
 "metadata": {
  "kernelspec": {
   "display_name": "Python 3",
   "language": "python",
   "name": "python3"
  },
  "language_info": {
   "codemirror_mode": {
    "name": "ipython",
    "version": 3
   },
   "file_extension": ".py",
   "mimetype": "text/x-python",
   "name": "python",
   "nbconvert_exporter": "python",
   "pygments_lexer": "ipython3",
   "version": "3.6.10"
  }
 },
 "nbformat": 4,
 "nbformat_minor": 4
}
